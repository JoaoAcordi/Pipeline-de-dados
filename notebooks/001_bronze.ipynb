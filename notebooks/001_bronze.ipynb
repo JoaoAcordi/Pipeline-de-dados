{
 "cells": [
  {
   "cell_type": "code",
   "execution_count": null,
   "id": "64d72232",
   "metadata": {
    "vscode": {
     "languageId": "plaintext"
    }
   },
   "outputs": [],
   "source": [
    "# DBTITLE 1,Definir os caminhos\n",
    "# Onde o arquivo CSV foi carregado. Ajuste se necessário.\n",
    "landing_zone_path = \"/Volumes/workspace/default/landing/top_100_movies_full_best_effort.csv\" \n",
    "bronze_path = \"/mnt/bronze/movies_db\"\n",
    "\n",
    "# Criar os bancos de dados se não existirem\n",
    "spark.sql(\"CREATE DATABASE IF NOT EXISTS bronze\")"
   ]
  },
  {
   "cell_type": "code",
   "execution_count": null,
   "id": "7ff6f18a",
   "metadata": {
    "vscode": {
     "languageId": "plaintext"
    }
   },
   "outputs": [],
   "source": [
    "# DBTITLE 1,Carregar o CSV em um DataFrame\n",
    "df_movies_raw = spark.read.format(\"csv\") \\\n",
    "    .option(\"header\", \"true\") \\\n",
    "    .option(\"inferSchema\", \"true\") \\\n",
    "    .load(landing_zone_path)\n",
    "\n",
    "display(df_movies_raw)"
   ]
  },
  {
   "cell_type": "code",
   "execution_count": null,
   "id": "a22949f4",
   "metadata": {
    "vscode": {
     "languageId": "plaintext"
    }
   },
   "outputs": [],
   "source": [
    "# DBTITLE 1,Tabela 1: Filmes (Movies)\n",
    "from pyspark.sql.functions import col\n",
    "\n",
    "df_movies = df_movies_raw.select(\n",
    "    col(\"Rank\").alias(\"rank\"),\n",
    "    col(\"Title\").alias(\"title\"),\n",
    "    col(\"Year\").alias(\"year\"),\n",
    "    col(\"Runtime (mins)\").alias(\"runtime_mins\"),\n",
    "    col(\"IMDb Rating\").alias(\"imdb_rating\"),\n",
    "    col(\"Rotten Tomatoes %\").alias(\"rotten_tomatoes_pct\"),\n",
    "    col(\"Metacritic Score\").alias(\"metacritic_score\"),\n",
    "    col(\"Oscars Won\").alias(\"oscars_won\"),\n",
    "    col(\"Box Office ($M)\").alias(\"box_office_million\")\n",
    ")\n",
    "\n",
    "# Salva como Tabela Delta\n",
    "df_movies.write.format(\"delta\").mode(\"overwrite\").saveAsTable(\"bronze.movies\")\n",
    "\n",
    "display(df_movies)"
   ]
  },
  {
   "cell_type": "code",
   "execution_count": null,
   "id": "d4f9decd",
   "metadata": {
    "vscode": {
     "languageId": "plaintext"
    }
   },
   "outputs": [],
   "source": [
    "# DBTITLE 1,Tabela 2: Gêneros (Genres)\n",
    "from pyspark.sql.functions import explode, split, col\n",
    "\n",
    "df_genres = df_movies_raw.select(\n",
    "    col(\"Rank\").alias(\"movie_rank\"),\n",
    "    explode(split(col(\"Genre(s)\"), \"\\\\|\")).alias(\"genre\")\n",
    ")\n",
    "\n",
    "df_genres.write.format(\"delta\").mode(\"overwrite\").saveAsTable(\"bronze.genres\")\n",
    "\n",
    "display(df_genres)"
   ]
  },
  {
   "cell_type": "code",
   "execution_count": null,
   "id": "a271ad43",
   "metadata": {
    "vscode": {
     "languageId": "plaintext"
    }
   },
   "outputs": [],
   "source": [
    "# DBTITLE 1,Tabela 3: Diretores (Directors)\n",
    "from pyspark.sql.functions import col\n",
    "\n",
    "df_directors = df_movies_raw.select(\n",
    "    col(\"Rank\").alias(\"movie_rank\"),\n",
    "    col(\"Director\").alias(\"director_name\")\n",
    ")\n",
    "\n",
    "df_directors.write.format(\"delta\").mode(\"overwrite\").saveAsTable(\"bronze.directors\")\n",
    "\n",
    "display(df_directors)"
   ]
  },
  {
   "cell_type": "code",
   "execution_count": null,
   "id": "0f813fe4",
   "metadata": {
    "vscode": {
     "languageId": "plaintext"
    }
   },
   "outputs": [],
   "source": [
    "# DBTITLE 1,Tabela 4: Atores (Actors)\n",
    "from pyspark.sql.functions import explode, split, col\n",
    "\n",
    "df_actors = df_movies_raw.select(\n",
    "    col(\"Rank\").alias(\"movie_rank\"),\n",
    "    explode(split(col(\"Main Actor(s)\"), \"\\\\|\")).alias(\"actor_name\")\n",
    ")\n",
    "\n",
    "df_actors.write.format(\"delta\").mode(\"overwrite\").saveAsTable(\"bronze.actors\")\n",
    "\n",
    "display(df_actors)"
   ]
  },
  {
   "cell_type": "code",
   "execution_count": null,
   "id": "334ce18d",
   "metadata": {
    "vscode": {
     "languageId": "plaintext"
    }
   },
   "outputs": [],
   "source": [
    "# DBTITLE 1,Tabela 5: Países (Countries)\n",
    "from pyspark.sql.functions import explode, split, col\n",
    "\n",
    "df_countries = df_movies_raw.select(\n",
    "    col(\"Rank\").alias(\"movie_rank\"),\n",
    "    explode(split(col(\"Country\"), \"\\\\|\")).alias(\"country_name\")\n",
    ")\n",
    "\n",
    "df_countries.write.format(\"delta\").mode(\"overwrite\").saveAsTable(\"bronze.countries\")\n",
    "\n",
    "display(df_countries)"
   ]
  }
 ],
 "metadata": {
  "language_info": {
   "name": "python"
  }
 },
 "nbformat": 4,
 "nbformat_minor": 5
}
