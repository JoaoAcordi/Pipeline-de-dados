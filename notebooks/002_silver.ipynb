{
 "cells": [
  {
   "cell_type": "code",
   "execution_count": null,
   "id": "9a637f88",
   "metadata": {
    "vscode": {
     "languageId": "plaintext"
    }
   },
   "outputs": [],
   "source": [
    "# Databricks notebook source\n",
    "\n",
    "# MAGIC %md\n",
    "# MAGIC # Camada Silver\n",
    "# MAGIC\n",
    "# MAGIC Lendo os dados da camada Bronze, aplicando transformações, limpeza e enriquecimento.\n",
    "\n",
    "# COMMAND ----------\n",
    "\n",
    "# DBTITLE 1,Definir o caminho da Camada Silver\n",
    "silver_path = \"/mnt/silver/movies_db\"\n",
    "\n",
    "# COMMAND ----------\n",
    "\n",
    "# DBTITLE 1,Carregar as tabelas da camada Bronze\n",
    "df_movies_bronze = spark.read.format(\"delta\").table(\"bronze.movies\")\n",
    "df_genres_bronze = spark.read.format(\"delta\").table(\"bronze.genres\")\n",
    "df_directors_bronze = spark.read.format(\"delta\").table(\"bronze.directors\")\n",
    "df_actors_bronze = spark.read.format(\"delta\").table(\"bronze.actors\")\n",
    "df_countries_bronze = spark.read.format(\"delta\").table(\"bronze.countries\")\n",
    "\n",
    "# COMMAND ----------\n",
    "\n",
    "# DBTITLE 1,Tabela de Filmes (Movies) - Limpeza e Transformação\n",
    "from pyspark.sql.functions import col, current_timestamp\n",
    "from pyspark.sql.types import IntegerType, FloatType\n",
    "\n",
    "df_movies_silver = df_movies_bronze.withColumn(\"year\", col(\"year\").cast(IntegerType())) \\\n",
    "    .withColumn(\"runtime_mins\", col(\"runtime_mins\").cast(IntegerType())) \\\n",
    "    .withColumn(\"imdb_rating\", col(\"imdb_rating\").cast(FloatType())) \\\n",
    "    .withColumn(\"rotten_tomatoes_pct\", col(\"rotten_tomatoes_pct\").cast(IntegerType())) \\\n",
    "    .withColumn(\"metacritic_score\", col(\"metacritic_score\").cast(IntegerType())) \\\n",
    "    .withColumn(\"oscars_won\", col(\"oscars_won\").cast(IntegerType())) \\\n",
    "    .withColumn(\"box_office_million\", col(\"box_office_million\").cast(FloatType())) \\\n",
    "    .withColumn(\"processed_at\", current_timestamp())\n",
    "\n",
    "df_movies_silver.write.format(\"delta\").mode(\"overwrite\").save(f\"{silver_path}/movies\")\n",
    "spark.sql(\"CREATE TABLE IF NOT EXISTS silver.movies USING DELTA LOCATION '\" + f\"{silver_path}/movies'\")\n",
    "\n",
    "display(df_movies_silver)\n",
    "\n",
    "\n",
    "# COMMAND ----------\n",
    "\n",
    "# DBTITLE 1,Demais tabelas da camada Silver (sem grandes transformações neste exemplo)\n",
    "# Para este exemplo, as demais tabelas não necessitam de grandes transformações.\n",
    "# Em um cenário real, poderíamos ter limpeza de strings, normalização, etc.\n",
    "\n",
    "df_genres_bronze.write.format(\"delta\").mode(\"overwrite\").save(f\"{silver_path}/genres\")\n",
    "spark.sql(\"CREATE TABLE IF NOT EXISTS silver.genres USING DELTA LOCATION '\" + f\"{silver_path}/genres'\")\n",
    "\n",
    "df_directors_bronze.write.format(\"delta\").mode(\"overwrite\").save(f\"{silver_path}/directors\")\n",
    "spark.sql(\"CREATE TABLE IF NOT EXISTS silver.directors USING DELTA LOCATION '\" + f\"{silver_path}/directors'\")\n",
    "\n",
    "df_actors_bronze.write.format(\"delta\").mode(\"overwrite\").save(f\"{silver_path}/actors\")\n",
    "spark.sql(\"CREATE TABLE IF NOT EXISTS silver.actors USING DELTA LOCATION '\" + f\"{silver_path}/actors'\")\n",
    "\n",
    "df_countries_bronze.write.format(\"delta\").mode(\"overwrite\").save(f\"{silver_path}/countries\")\n",
    "spark.sql(\"CREATE TABLE IF NOT EXISTS silver.countries USING DELTA LOCATION '\" + f\"{silver_path}/countries'\")"
   ]
  }
 ],
 "metadata": {
  "language_info": {
   "name": "python"
  }
 },
 "nbformat": 4,
 "nbformat_minor": 5
}
