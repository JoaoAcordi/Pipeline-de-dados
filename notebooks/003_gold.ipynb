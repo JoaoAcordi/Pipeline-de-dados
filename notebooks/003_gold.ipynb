{
 "cells": [
  {
   "cell_type": "code",
   "execution_count": null,
   "id": "7f7b1b9c",
   "metadata": {
    "vscode": {
     "languageId": "plaintext"
    }
   },
   "outputs": [],
   "source": [
    "# Databricks notebook source\n",
    "\n",
    "# MAGIC %md\n",
    "# MAGIC # Camada Gold\n",
    "# MAGIC\n",
    "# MAGIC Criando tabelas de fatos e dimensões para análise e BI.\n",
    "\n",
    "# COMMAND ----------\n",
    "\n",
    "# DBTITLE 1,Definir o caminho da Camada Gold\n",
    "gold_path = \"/mnt/gold/movies_db\"\n",
    "\n",
    "# COMMAND ----------\n",
    "\n",
    "# DBTITLE 1,Carregar as tabelas da camada Silver\n",
    "df_movies_silver = spark.read.format(\"delta\").table(\"silver.movies\")\n",
    "df_genres_silver = spark.read.format(\"delta\").table(\"silver.genres\")\n",
    "df_directors_silver = spark.read.format(\"delta\").table(\"silver.directors\")\n",
    "df_actors_silver = spark.read.format(\"delta\").table(\"silver.actors\")\n",
    "df_countries_silver = spark.read.format(\"delta\").table(\"silver.countries\")\n",
    "\n",
    "# COMMAND ----------\n",
    "\n",
    "# DBTITLE 1,Dimensão: Filmes (dim_movies)\n",
    "dim_movies = df_movies_silver.select(\"rank\", \"title\", \"year\", \"runtime_mins\")\n",
    "dim_movies.write.format(\"delta\").mode(\"overwrite\").saveAsTable(\"gold.dim_movies\")\n",
    "display(dim_movies)\n",
    "\n",
    "# COMMAND ----------\n",
    "\n",
    "# DBTITLE 1,Fato: Avaliações e Bilheteria (fact_ratings_boxoffice)\n",
    "fact_ratings = df_movies_silver.select(\"rank\", \"imdb_rating\", \"rotten_tomatoes_pct\", \"metacritic_score\", \"oscars_won\", \"box_office_million\")\n",
    "fact_ratings.write.format(\"delta\").mode(\"overwrite\").saveAsTable(\"gold.fact_ratings_boxoffice\")\n",
    "display(fact_ratings)\n",
    "\n",
    "# COMMAND ----------\n",
    "\n",
    "# DBTITLE 1,Visão Agregada: Média de Avaliações por Gênero\n",
    "df_avg_ratings_by_genre = df_genres_silver.join(df_movies_silver, df_genres_silver.movie_rank == df_movies_silver.rank) \\\n",
    "    .groupBy(\"genre\") \\\n",
    "    .agg({\"imdb_rating\": \"avg\", \"rotten_tomatoes_pct\": \"avg\", \"metacritic_score\": \"avg\"}) \\\n",
    "    .withColumnRenamed(\"avg(imdb_rating)\", \"avg_imdb_rating\") \\\n",
    "    .withColumnRenamed(\"avg(rotten_tomatoes_pct)\", \"avg_rotten_tomatoes_pct\") \\\n",
    "    .withColumnRenamed(\"avg(metacritic_score)\", \"avg_metacritic_score\")\n",
    "\n",
    "df_avg_ratings_by_genre.write.format(\"delta\").mode(\"overwrite\").saveAsTable(\"gold.avg_ratings_by_genre\")\n",
    "display(df_avg_ratings_by_genre)"
   ]
  }
 ],
 "metadata": {
  "language_info": {
   "name": "python"
  }
 },
 "nbformat": 4,
 "nbformat_minor": 5
}
