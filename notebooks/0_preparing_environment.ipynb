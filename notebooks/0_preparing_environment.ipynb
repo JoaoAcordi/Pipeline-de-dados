{
 "cells": [
  {
   "cell_type": "code",
   "execution_count": null,
   "id": "90849ab1",
   "metadata": {
    "vscode": {
     "languageId": "plaintext"
    }
   },
   "outputs": [],
   "source": [
    "# Databricks notebook source\n",
    "# MAGIC %md\n",
    "# MAGIC # 0. Preparando o Ambiente - Pipeline de Filmes\n",
    "# MAGIC \n",
    "# MAGIC **Objetivo:** Criar a infraestrutura no Unity Catalog (Catálogo, Schemas, Volume) para o pipeline de dados de filmes.\n",
    "# MAGIC **Execução:** Este notebook deve ser executado apenas uma vez.\n",
    "\n",
    "# COMMAND ----------\n",
    "\n",
    "# MAGIC %sql\n",
    "# MAGIC -- Cria um novo catálogo para o projeto de filmes, caso ele não exista.\n",
    "# MAGIC CREATE CATALOG IF NOT EXISTS movies_catalog;\n",
    "# MAGIC \n",
    "# MAGIC -- Define o catálogo recém-criado como o padrão para esta sessão.\n",
    "# MAGIC USE CATALOG movies_catalog;\n",
    "\n",
    "# COMMAND ----------\n",
    "\n",
    "# MAGIC %sql\n",
    "# MAGIC -- Cria os schemas para cada camada da arquitetura.\n",
    "# MAGIC CREATE SCHEMA IF NOT EXISTS bronze;\n",
    "# MAGIC CREATE SCHEMA IF NOT EXISTS silver;\n",
    "# MAGIC CREATE SCHEMA IF NOT EXISTS gold;\n",
    "\n",
    "# COMMAND ----------\n",
    "\n",
    "# MAGIC %md\n",
    "# MAGIC ### Criar o Volume e Fazer o Upload do Arquivo\n",
    "# MAGIC \n",
    "# MAGIC A célula abaixo cria o **Volume**, que é a nossa área de pouso (Landing Zone). Após executá-la:\n",
    "# MAGIC \n",
    "# MAGIC 1.  Navegue até: **Data > movies_catalog > bronze > landing_zone_movies**.\n",
    "# MAGIC 2.  Clique em **\"Upload to this volume\"**.\n",
    "# MAGIC 3.  Envie o arquivo `top_100_movies_full_best_effort.csv`.\n",
    "\n",
    "# COMMAND ----------\n",
    "\n",
    "# MAGIC %sql\n",
    "# MAGIC -- Cria um volume gerenciado dentro do schema bronze para ser nossa Landing Zone.\n",
    "# MAGIC CREATE VOLUME IF NOT EXISTS movies_catalog.bronze.landing_zone_movies;\n",
    "\n",
    "# COMMAND ----------\n",
    "\n",
    "print(\"Ambiente preparado com sucesso!\")\n",
    "print(\"Por favor, faça o upload do arquivo CSV para o volume 'landing_zone_movies' antes de executar o próximo notebook.\")"
   ]
  }
 ],
 "metadata": {
  "language_info": {
   "name": "python"
  }
 },
 "nbformat": 4,
 "nbformat_minor": 5
}
