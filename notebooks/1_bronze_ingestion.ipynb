{
 "cells": [
  {
   "cell_type": "code",
   "execution_count": null,
   "id": "97bbf723",
   "metadata": {
    "vscode": {
     "languageId": "plaintext"
    }
   },
   "outputs": [],
   "source": [
    "from pyspark.sql.functions import current_timestamp, input_file_name\n",
    "\n",
    "landing_path = \"/FileStore/data/landing/dados/\"\n",
    "bronze_path = \"/mnt/datalake/bronze/\"\n",
    "\n",
    "arquivos = {\n",
    "    \"clientes\": {\"formato\": \"csv\", \"path\": f\"{landing_path}clientes.csv\"},\n",
    "    \"produtos\": {\"formato\": \"csv\", \"path\": f\"{landing_path}produtos.csv\"},\n",
    "    \"vendedores\": {\"formato\": \"csv\", \"path\": f\"{landing_path}vendedores.csv\"},\n",
    "    \"pedidos\": {\"formato\": \"csv\", \"path\": f\"{landing_path}pedidos.csv\"},\n",
    "    \"itens_pedido\": {\"formato\": \"json\", \"path\": f\"{landing_path}itens_pedido.json\"}\n",
    "}\n",
    "\n",
    "print(\"Iniciando a ingestão para a camada Bronze...\")\n",
    "\n",
    "for nome_tabela, info in arquivos.items():\n",
    "    print(f\"Processando tabela: {nome_tabela}...\")\n",
    "    \n",
    "    if info[\"formato\"] == \"csv\":\n",
    "        df = spark.read.format(\"csv\") \\\n",
    "                      .option(\"header\", \"true\") \\\n",
    "                      .option(\"inferSchema\", \"true\") \\\n",
    "                      .load(info[\"path\"])\n",
    "    elif info[\"formato\"] == \"json\":\n",
    "        df = spark.read.format(\"json\") \\\n",
    "                      .option(\"inferSchema\", \"true\") \\\n",
    "                      .load(info[\"path\"])\n",
    "    \n",
    "    df_with_metadata = df.withColumn(\"data_ingestao\", current_timestamp()) \\\n",
    "                         .withColumn(\"arquivo_origem\", input_file_name())\n",
    "\n",
    "    output_path = f\"{bronze_path}{nome_tabela}\"\n",
    "    df_with_metadata.write.format(\"delta\") \\\n",
    "                          .mode(\"overwrite\") \\\n",
    "                          .save(output_path)\n",
    "    \n",
    "    print(f\"Tabela '{nome_tabela}' salva com sucesso em '{output_path}'.\")\n",
    "\n",
    "print(\"\\nIngestão para a camada Bronze concluída!\")"
   ]
  }
 ],
 "metadata": {
  "language_info": {
   "name": "python"
  }
 },
 "nbformat": 4,
 "nbformat_minor": 5
}
