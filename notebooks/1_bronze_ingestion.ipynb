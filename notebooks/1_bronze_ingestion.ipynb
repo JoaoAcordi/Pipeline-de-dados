{
 "cells": [
  {
   "cell_type": "code",
   "execution_count": null,
   "id": "97bbf723",
   "metadata": {
    "vscode": {
     "languageId": "plaintext"
    }
   },
   "outputs": [],
   "source": [
    "# Databricks notebook source\n",
    "# MAGIC %md\n",
    "# MAGIC ### 1. Movimentação: Landing Zone para Bronze\n",
    "# MAGIC \n",
    "# MAGIC **Origem:** `/Volumes/movies_catalog/bronze/landing_zone_movies/top_100_movies_full_best_effort.csv`\n",
    "# MAGIC \n",
    "# MAGIC **Destino:** Tabela `movies_catalog.bronze.movies_raw`\n",
    "# MAGIC \n",
    "# MAGIC **Ações:**\n",
    "# MAGIC 1. Lê o arquivo CSV bruto da Landing Zone.\n",
    "# MAGIC 2. Adiciona colunas de metadados (`data_ingestao`, `arquivo_origem`).\n",
    "# MAGIC 3. Salva os dados como uma tabela Delta na camada Bronze.\n",
    "\n",
    "# COMMAND ----------\n",
    "\n",
    "from pyspark.sql.functions import current_timestamp, input_file_name\n",
    "\n",
    "# Define o catálogo e o schema a serem usados\n",
    "spark.sql(\"USE CATALOG movies_catalog\")\n",
    "spark.sql(\"USE SCHEMA bronze\")\n",
    "\n",
    "# COMMAND ----------\n",
    "\n",
    "# Caminho completo para o arquivo dentro do Volume\n",
    "landing_path = \"/Volumes/movies_catalog/bronze/landing_zone_movies/top_100_movies_full_best_effort.csv\"\n",
    "bronze_table_name = \"movies_raw\"\n",
    "\n",
    "# Leitura do arquivo CSV bruto da Landing Zone\n",
    "try:\n",
    "    df_raw = spark.read.format(\"csv\") \\\n",
    "                       .option(\"header\", \"true\") \\\n",
    "                       .option(\"inferSchema\", \"true\") \\\n",
    "                       .load(landing_path)\n",
    "\n",
    "    # Adiciona metadados de controle para rastreabilidade\n",
    "    df_bronze = df_raw.withColumn(\"data_ingestao\", current_timestamp()) \\\n",
    "                      .withColumn(\"arquivo_origem\", input_file_name())\n",
    "\n",
    "    # Salva como uma tabela Delta gerenciada na camada Bronze\n",
    "    df_bronze.write.mode(\"overwrite\") \\\n",
    "             .option(\"overwriteSchema\", \"true\") \\\n",
    "             .saveAsTable(bronze_table_name)\n",
    "\n",
    "    print(f\"Tabela '{bronze_table_name}' salva com sucesso na camada Bronze.\")\n",
    "\n",
    "except Exception as e:\n",
    "    print(f\"Erro ao processar o arquivo. Verifique se o caminho '{landing_path}' está correto e se o arquivo foi carregado.\")\n",
    "    raise e"
   ]
  }
 ],
 "metadata": {
  "language_info": {
   "name": "python"
  }
 },
 "nbformat": 4,
 "nbformat_minor": 5
}
