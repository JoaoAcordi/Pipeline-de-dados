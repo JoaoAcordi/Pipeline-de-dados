{
 "cells": [
  {
   "cell_type": "code",
   "execution_count": null,
   "id": "97bbf723",
   "metadata": {
    "vscode": {
     "languageId": "plaintext"
    }
   },
   "outputs": [],
   "source": [
    "from pyspark.sql.functions import current_timestamp, input_file_name\n",
    "\n",
    "caminho_arquivo = \"/Workspace/Users/joao.243619@alunosatc.edu.br/Pipeline-de-dados/data\"\n",
    "df = spark.read.format(\"csv\").option(\"header\", \"true\").load(caminho_arquivo)\n",
    "\n",
    "df_with_metadata = df.withColumn(\"ingestion_date\", current_timestamp()) \\\n",
    "                     .withColumn(\"source_file\", input_file_name())\n",
    "\n",
    "df_with_metadata.write.format(\"delta\") \\\n",
    "                      .mode(\"overwrite\") \\\n",
    "                      .save(\"dbfs:/mnt/datalake/bronze/nome_da_tabela\")"
   ]
  }
 ],
 "metadata": {
  "language_info": {
   "name": "python"
  }
 },
 "nbformat": 4,
 "nbformat_minor": 5
}
