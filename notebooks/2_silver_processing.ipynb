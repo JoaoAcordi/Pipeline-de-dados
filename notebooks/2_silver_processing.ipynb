{
 "cells": [
  {
   "cell_type": "code",
   "execution_count": null,
   "id": "72088f00",
   "metadata": {
    "vscode": {
     "languageId": "plaintext"
    }
   },
   "outputs": [],
   "source": [
    "# Databricks notebook source\n",
    "# MAGIC %md\n",
    "# MAGIC # 3. Camada Silver - Limpeza e Padronização dos Dados\n",
    "# MAGIC \n",
    "# MAGIC **Objetivo:** Limpar, transformar e enriquecer os dados da camada Bronze.\n",
    "\n",
    "# COMMAND ----------\n",
    "\n",
    "from pyspark.sql.functions import col, regexp_replace, to_date, year\n",
    "\n",
    "# Define o catálogo a ser usado\n",
    "spark.sql(\"USE CATALOG movies_catalog\")\n",
    "\n",
    "# COMMAND ----------\n",
    "\n",
    "# Carrega a tabela da camada Bronze\n",
    "df_bronze = spark.read.table(\"bronze.movies_raw\")\n",
    "\n",
    "# Realiza a limpeza e transformação dos dados\n",
    "df_silver = df_bronze \\\n",
    "    .withColumn(\"orcamento\", regexp_replace(col(\"budget\"), \"[$,]\", \"\").cast(\"long\")) \\\n",
    "    .withColumn(\"receita\", regexp_replace(col(\"revenue\"), \"[$,]\", \"\").cast(\"long\")) \\\n",
    "    .withColumn(\"data_lancamento\", to_date(col(\"release_date\"), \"yyyy-MM-dd\")) \\\n",
    "    .withColumn(\"ano_lancamento\", year(col(\"data_lancamento\"))) \\\n",
    "    .withColumnRenamed(\"original_title\", \"titulo_original\") \\\n",
    "    .withColumnRenamed(\"vote_average\", \"nota_media\") \\\n",
    "    .withColumnRenamed(\"runtime\", \"duracao_min\") \\\n",
    "    .drop(\"budget\", \"revenue\", \"release_date\", \"homepage\", \"tagline\") # Remove colunas antigas ou desnecessárias\n",
    "\n",
    "# Seleciona e reordena as colunas para a tabela final\n",
    "df_silver = df_silver.select(\n",
    "    \"id\",\n",
    "    \"titulo_original\",\n",
    "    \"data_lancamento\",\n",
    "    \"ano_lancamento\",\n",
    "    \"genres\",\n",
    "    \"orcamento\",\n",
    "    \"receita\",\n",
    "    \"duracao_min\",\n",
    "    \"nota_media\",\n",
    "    \"overview\"\n",
    ")\n",
    "\n",
    "silver_table_name = \"silver.movies_cleaned\"\n",
    "\n",
    "# Salva a tabela limpa na camada Silver\n",
    "df_silver.write.mode(\"overwrite\") \\\n",
    "         .option(\"overwriteSchema\", \"true\") \\\n",
    "         .saveAsTable(silver_table_name)\n",
    "\n",
    "print(f\"Tabela '{silver_table_name}' criada com sucesso na camada Silver.\")\n",
    "display(spark.table(silver_table_name))"
   ]
  }
 ],
 "metadata": {
  "language_info": {
   "name": "python"
  }
 },
 "nbformat": 4,
 "nbformat_minor": 5
}
