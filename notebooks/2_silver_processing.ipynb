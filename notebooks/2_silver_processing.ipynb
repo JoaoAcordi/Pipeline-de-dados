{
 "cells": [
  {
   "cell_type": "code",
   "execution_count": null,
   "id": "72088f00",
   "metadata": {
    "vscode": {
     "languageId": "plaintext"
    }
   },
   "outputs": [],
   "source": [
    "# Databricks notebook source\n",
    "# MAGIC %md\n",
    "# MAGIC ### 2. Movimentação: Bronze para Silver\n",
    "# MAGIC \n",
    "# MAGIC **Origem:** Tabela `movies_catalog.bronze.movies_raw`\n",
    "# MAGIC \n",
    "# MAGIC **Destino:** Tabela `movies_catalog.silver.movies_cleaned`\n",
    "# MAGIC \n",
    "# MAGIC **Ações:**\n",
    "# MAGIC 1. Converte colunas de valores monetários para tipos numéricos.\n",
    "# MAGIC 2. Converte a coluna de data para o formato `Date` e extrai o ano.\n",
    "# MAGIC 3. Renomeia colunas para um padrão claro em português.\n",
    "# MAGIC 4. Remove colunas desnecessárias e seleciona a ordem final.\n",
    "\n",
    "# COMMAND ----------\n",
    "\n",
    "from pyspark.sql.functions import col, regexp_replace, to_date, year\n",
    "\n",
    "# Garante que o catálogo correto está em uso\n",
    "spark.sql(\"USE CATALOG movies_catalog\")\n",
    "\n",
    "# COMMAND ----------\n",
    "\n",
    "# Carrega a tabela da camada Bronze\n",
    "df_bronze = spark.read.table(\"bronze.movies_raw\")\n",
    "\n",
    "# Aplica as transformações e limpezas\n",
    "df_silver = df_bronze \\\n",
    "    .withColumn(\"orcamento\", regexp_replace(col(\"budget\"), \"[$,]\", \"\").cast(\"long\")) \\\n",
    "    .withColumn(\"receita\", regexp_replace(col(\"revenue\"), \"[$,]\", \"\").cast(\"long\")) \\\n",
    "    .withColumn(\"data_lancamento\", to_date(col(\"release_date\"), \"yyyy-MM-dd\")) \\\n",
    "    .withColumn(\"ano_lancamento\", year(col(\"data_lancamento\"))) \\\n",
    "    .withColumnRenamed(\"original_title\", \"titulo_original\") \\\n",
    "    .withColumnRenamed(\"vote_average\", \"nota_media\") \\\n",
    "    .withColumnRenamed(\"runtime\", \"duracao_min\") \\\n",
    "    .drop(\"budget\", \"revenue\", \"release_date\", \"homepage\", \"tagline\")\n",
    "\n",
    "# Seleciona e reordena as colunas para a tabela final da camada Silver\n",
    "df_silver_final = df_silver.select(\n",
    "    \"id\",\n",
    "    \"titulo_original\",\n",
    "    \"data_lancamento\",\n",
    "    \"ano_lancamento\",\n",
    "    \"genres\",\n",
    "    \"orcamento\",\n",
    "    \"receita\",\n",
    "    \"duracao_min\",\n",
    "    \"nota_media\",\n",
    "    \"overview\"\n",
    ")\n",
    "\n",
    "silver_table_name = \"silver.movies_cleaned\"\n",
    "\n",
    "# Salva a tabela limpa como uma tabela Delta gerenciada na camada Silver\n",
    "df_silver_final.write.mode(\"overwrite\") \\\n",
    "               .option(\"overwriteSchema\", \"true\") \\\n",
    "               .saveAsTable(silver_table_name)\n",
    "\n",
    "print(f\"Tabela '{silver_table_name}' salva com sucesso na camada Silver.\")"
   ]
  }
 ],
 "metadata": {
  "language_info": {
   "name": "python"
  }
 },
 "nbformat": 4,
 "nbformat_minor": 5
}
