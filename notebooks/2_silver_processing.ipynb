{
 "cells": [
  {
   "cell_type": "code",
   "execution_count": null,
   "id": "72088f00",
   "metadata": {
    "vscode": {
     "languageId": "plaintext"
    }
   },
   "outputs": [],
   "source": [
    "df_silver.write.format(\"delta\") \\\n",
    "           .mode(\"overwrite\") \\\n",
    "           .save(\"dbfs:/mnt/datalake/silver/nome_tabela_processada\")"
   ]
  }
 ],
 "metadata": {
  "language_info": {
   "name": "python"
  }
 },
 "nbformat": 4,
 "nbformat_minor": 5
}
