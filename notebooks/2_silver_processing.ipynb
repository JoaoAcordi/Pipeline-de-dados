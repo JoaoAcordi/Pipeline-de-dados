{
 "cells": [
  {
   "cell_type": "code",
   "execution_count": null,
   "id": "72088f00",
   "metadata": {
    "vscode": {
     "languageId": "plaintext"
    }
   },
   "outputs": [],
   "source": [
    "from pyspark.sql.functions import col, to_date\n",
    "\n",
    "bronze_path = \"/mnt/datalake/bronze/\"\n",
    "silver_path = \"/mnt/datalake/silver/\"\n",
    "\n",
    "clientes_df = spark.read.format(\"delta\").load(f\"{bronze_path}clientes\")\n",
    "produtos_df = spark.read.format(\"delta\").load(f\"{bronze_path}produtos\")\n",
    "vendedores_df = spark.read.format(\"delta\").load(f\"{bronze_path}vendedores\")\n",
    "pedidos_df = spark.read.format(\"delta\").load(f\"{bronze_path}pedidos\")\n",
    "itens_pedido_df = spark.read.format(\"delta\").load(f\"{bronze_path}itens_pedido\")\n",
    "\n",
    "print(\"Tabelas da camada Bronze carregadas.\")\n",
    "\n",
    "pedidos_df_clean = pedidos_df.withColumn(\"data_pedido\", to_date(col(\"data_pedido\"), \"yyyy-MM-dd\"))\n",
    "produtos_df_clean = produtos_df.withColumn(\"preco\", col(\"preco\").cast(\"double\"))\n",
    "itens_pedido_df_clean = itens_pedido_df.withColumn(\"valor_total_item\", col(\"quantidade\") * col(\"preco_unitario\"))\n",
    "\n",
    "print(\"Limpeza e transformações básicas concluídas.\")\n",
    "\n",
    "print(\"Iniciando a criação da tabela fato de vendas...\")\n",
    "\n",
    "fato_vendas_df = itens_pedido_df_clean.alias(\"it\") \\\n",
    "    .join(pedidos_df_clean.alias(\"pe\"), col(\"it.id_pedido\") == col(\"pe.id_pedido\"), \"inner\") \\\n",
    "    .join(produtos_df_clean.alias(\"pr\"), col(\"it.id_produto\") == col(\"pr.id_produto\"), \"inner\") \\\n",
    "    .join(clientes_df.alias(\"cl\"), col(\"pe.id_cliente\") == col(\"cl.id_cliente\"), \"inner\") \\\n",
    "    .join(vendedores_df.alias(\"ve\"), col(\"pe.id_vendedor\") == col(\"ve.id_vendedor\"), \"inner\") \\\n",
    "    .select(\n",
    "        col(\"pe.id_pedido\"),\n",
    "        col(\"pe.data_pedido\"),\n",
    "        col(\"it.id_item\"),\n",
    "        col(\"cl.id_cliente\"),\n",
    "        col(\"cl.nome_cliente\"),\n",
    "        col(\"cl.cidade\"),\n",
    "        col(\"cl.estado\"),\n",
    "        col(\"pr.id_produto\"),\n",
    "        col(\"pr.nome_produto\"),\n",
    "        col(\"pr.categoria\"),\n",
    "        col(\"ve.id_vendedor\"),\n",
    "        col(\"ve.nome_vendedor\"),\n",
    "        col(\"ve.equipe\"),\n",
    "        col(\"it.quantidade\"),\n",
    "        col(\"it.preco_unitario\"),\n",
    "        col(\"it.valor_total_item\")\n",
    "    )\n",
    "\n",
    "print(\"Tabela fato criada com sucesso.\")\n",
    "display(fato_vendas_df.limit(10))\n",
    "\n",
    "fato_vendas_df.write.format(\"delta\") \\\n",
    "              .mode(\"overwrite\") \\\n",
    "              .option(\"overwriteSchema\", \"true\") \\\n",
    "              .save(f\"{silver_path}fato_vendas\")\n",
    "\n",
    "clientes_df.write.format(\"delta\").mode(\"overwrite\").save(f\"{silver_path}dim_clientes\")\n",
    "produtos_df_clean.write.format(\"delta\").mode(\"overwrite\").save(f\"{silver_path}dim_produtos\")\n",
    "vendedores_df.write.format(\"delta\").mode(\"overwrite\").save(f\"{silver_path}dim_vendedores\")\n",
    "\n",
    "print(\"\\nProcessamento da camada Silver concluído!\")"
   ]
  }
 ],
 "metadata": {
  "language_info": {
   "name": "python"
  }
 },
 "nbformat": 4,
 "nbformat_minor": 5
}
