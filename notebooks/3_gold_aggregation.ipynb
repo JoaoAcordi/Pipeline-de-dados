{
 "cells": [
  {
   "cell_type": "code",
   "execution_count": null,
   "id": "b8555d64",
   "metadata": {
    "vscode": {
     "languageId": "plaintext"
    }
   },
   "outputs": [],
   "source": [
    "# Databricks notebook source\n",
    "# MAGIC %md\n",
    "# MAGIC ### 3. Movimentação: Silver para Gold\n",
    "# MAGIC \n",
    "# MAGIC **Origem:** Tabela `movies_catalog.silver.movies_cleaned`\n",
    "# MAGIC \n",
    "# MAGIC **Destino:** Tabelas de agregação no schema `gold`.\n",
    "# MAGIC \n",
    "# MAGIC **Ações:**\n",
    "# MAGIC 1. Calcula o lucro de cada filme.\n",
    "# MAGIC 2. Conta a quantidade de filmes lançados por ano.\n",
    "# MAGIC 3. Extrai os gêneros de uma coluna JSON e calcula a receita média para cada um.\n",
    "\n",
    "# COMMAND ----------\n",
    "\n",
    "from pyspark.sql.functions import col, avg, count, desc, explode, from_json\n",
    "from pyspark.sql.types import ArrayType, StructType, StructField, StringType\n",
    "\n",
    "# Garante que o catálogo correto está em uso\n",
    "spark.sql(\"USE CATALOG movies_catalog\")\n",
    "\n",
    "# COMMAND ----------\n",
    "\n",
    "# Carrega a tabela limpa da camada Silver\n",
    "df_silver = spark.read.table(\"silver.movies_cleaned\")\n",
    "\n",
    "# --- AGREGAÇÃO 1: Lucro por Filme ---\n",
    "df_lucro_por_filme = df_silver \\\n",
    "    .withColumn(\"lucro\", col(\"receita\") - col(\"orcamento\")) \\\n",
    "    .select(\"titulo_original\", \"ano_lancamento\", \"orcamento\", \"receita\", \"lucro\") \\\n",
    "    .orderBy(desc(\"lucro\"))\n",
    "\n",
    "df_lucro_por_filme.write.mode(\"overwrite\").saveAsTable(\"gold.agg_lucro_por_filme\")\n",
    "print(\"Tabela 'gold.agg_lucro_por_filme' salva com sucesso.\")\n",
    "\n",
    "# --- AGREGAÇÃO 2: Quantidade de Filmes por Ano ---\n",
    "df_filmes_por_ano = df_silver.groupBy(\"ano_lancamento\") \\\n",
    "                             .agg(count(\"id\").alias(\"quantidade_filmes\")) \\\n",
    "                             .orderBy(desc(\"ano_lancamento\"))\n",
    "\n",
    "df_filmes_por_ano.write.mode(\"overwrite\").saveAsTable(\"gold.agg_filmes_por_ano\")\n",
    "print(\"Tabela 'gold.agg_filmes_por_ano' salva com sucesso.\")\n",
    "\n",
    "# --- AGREGAÇÃO 3: Receita Média por Gênero ---\n",
    "# Schema para extrair o nome do gênero do JSON aninhado\n",
    "genre_schema = ArrayType(StructType([StructField(\"name\", StringType())]))\n",
    "\n",
    "df_generos = df_silver.withColumn(\"genres_array\", from_json(col(\"genres\"), genre_schema)) \\\n",
    "                      .withColumn(\"genre_struct\", explode(col(\"genres_array\"))) \\\n",
    "                      .withColumn(\"genero\", col(\"genre_struct.name\")) \\\n",
    "                      .select(\"genero\", \"receita\")\n",
    "\n",
    "df_receita_por_genero = df_generos.groupBy(\"genero\") \\\n",
    "                                  .agg(\n",
    "                                      avg(\"receita\").alias(\"receita_media\"),\n",
    "                                      count(\"*\").alias(\"quantidade_filmes\")\n",
    "                                  ) \\\n",
    "                                  .orderBy(desc(\"receita_media\"))\n",
    "\n",
    "df_receita_por_genero.write.mode(\"overwrite\").saveAsTable(\"gold.agg_receita_media_por_genero\")\n",
    "print(\"Tabela 'gold.agg_receita_media_por_genero' salva com sucesso.\")"
   ]
  }
 ],
 "metadata": {
  "language_info": {
   "name": "python"
  }
 },
 "nbformat": 4,
 "nbformat_minor": 5
}
