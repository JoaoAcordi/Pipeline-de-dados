{
 "cells": [
  {
   "cell_type": "code",
   "execution_count": null,
   "id": "b8555d64",
   "metadata": {
    "vscode": {
     "languageId": "plaintext"
    }
   },
   "outputs": [],
   "source": [
    "from pyspark.sql.functions import col, sum, count, date_format\n",
    "\n",
    "silver_path = \"/mnt/datalake/silver/\"\n",
    "gold_path = \"/mnt/datalake/gold/\"\n",
    "\n",
    "fato_vendas_df = spark.read.format(\"delta\").load(f\"{silver_path}fato_vendas\")\n",
    "\n",
    "print(\"Tabela fato da camada Silver carregada.\")\n",
    "\n",
    "print(\"Calculando faturamento por vendedor...\")\n",
    "agg_vendas_por_vendedor = fato_vendas_df.groupBy(\"id_vendedor\", \"nome_vendedor\", \"equipe\") \\\n",
    "    .agg(\n",
    "        sum(\"valor_total_item\").alias(\"faturamento_total\"),\n",
    "        count(\"id_pedido\").alias(\"total_pedidos\")\n",
    "    ) \\\n",
    "    .orderBy(col(\"faturamento_total\").desc())\n",
    "\n",
    "display(agg_vendas_por_vendedor)\n",
    "\n",
    "print(\"Calculando vendas por categoria de produto...\")\n",
    "agg_vendas_por_categoria = fato_vendas_df.groupBy(\"categoria\") \\\n",
    "    .agg(\n",
    "        sum(\"valor_total_item\").alias(\"faturamento_total\"),\n",
    "        sum(\"quantidade\").alias(\"quantidade_total_vendida\")\n",
    "    ) \\\n",
    "    .orderBy(col(\"faturamento_total\").desc())\n",
    "\n",
    "display(agg_vendas_por_categoria)\n",
    "\n",
    "print(\"Calculando faturamento mensal...\")\n",
    "agg_faturamento_mensal = fato_vendas_df.withColumn(\"ano_mes\", date_format(col(\"data_pedido\"), \"yyyy-MM\")) \\\n",
    "    .groupBy(\"ano_mes\") \\\n",
    "    .agg(\n",
    "        sum(\"valor_total_item\").alias(\"faturamento_total\")\n",
    "    ) \\\n",
    "    .orderBy(\"ano_mes\")\n",
    "    \n",
    "display(agg_faturamento_mensal)\n",
    "\n",
    "agg_vendas_por_vendedor.write.format(\"delta\").mode(\"overwrite\").save(f\"{gold_path}agg_vendas_por_vendedor\")\n",
    "agg_vendas_por_categoria.write.format(\"delta\").mode(\"overwrite\").save(f\"{gold_path}agg_vendas_por_categoria\")\n",
    "agg_faturamento_mensal.write.format(\"delta\").mode(\"overwrite\").save(f\"{gold_path}agg_faturamento_mensal\")\n",
    "\n",
    "print(\"\\nCamada Gold criada com sucesso!\")"
   ]
  }
 ],
 "metadata": {
  "language_info": {
   "name": "python"
  }
 },
 "nbformat": 4,
 "nbformat_minor": 5
}
