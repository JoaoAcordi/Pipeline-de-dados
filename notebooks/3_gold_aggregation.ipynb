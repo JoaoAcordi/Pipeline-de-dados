{
 "cells": [
  {
   "cell_type": "code",
   "execution_count": null,
   "id": "b8555d64",
   "metadata": {
    "vscode": {
     "languageId": "plaintext"
    }
   },
   "outputs": [],
   "source": [
    "df_gold_kpi.write.format(\"delta\") \\\n",
    "             .mode(\"overwrite\") \\\n",
    "             .save(\"dbfs:/mnt/datalake/gold/kpi_vendas_mensais\")"
   ]
  }
 ],
 "metadata": {
  "language_info": {
   "name": "python"
  }
 },
 "nbformat": 4,
 "nbformat_minor": 5
}
